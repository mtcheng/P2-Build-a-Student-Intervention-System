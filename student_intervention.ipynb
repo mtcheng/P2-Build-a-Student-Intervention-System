{
 "cells": [
  {
   "cell_type": "markdown",
   "metadata": {},
   "source": [
    "# Project 2: Supervised Learning\n",
    "### Building a Student Intervention System"
   ]
  },
  {
   "cell_type": "markdown",
   "metadata": {},
   "source": [
    "## 1. Classification vs Regression\n",
    "\n",
    "Your goal is to identify students who might need early intervention - which type of supervised machine learning problem is this, classification or regression? Why?"
   ]
  },
  {
   "cell_type": "markdown",
   "metadata": {},
   "source": [
    "## 2. Exploring the Data\n",
    "\n",
    "Let's go ahead and read in the student dataset first.\n",
    "\n",
    "_To execute a code cell, click inside it and press **Shift+Enter**._"
   ]
  },
  {
   "cell_type": "code",
   "execution_count": 2,
   "metadata": {
    "collapsed": false
   },
   "outputs": [],
   "source": [
    "# Import libraries\n",
    "import numpy as np\n",
    "import pandas as pd"
   ]
  },
  {
   "cell_type": "code",
   "execution_count": 3,
   "metadata": {
    "collapsed": false
   },
   "outputs": [
    {
     "name": "stdout",
     "output_type": "stream",
     "text": [
      "Student data read successfully!\n"
     ]
    }
   ],
   "source": [
    "# Read student data\n",
    "student_data = pd.read_csv(\"student-data.csv\")\n",
    "print \"Student data read successfully!\"\n",
    "# Note: The last column 'passed' is the target/label, all other are feature columns"
   ]
  },
  {
   "cell_type": "markdown",
   "metadata": {},
   "source": [
    "Now, can you find out the following facts about the dataset?\n",
    "- Total number of students\n",
    "- Number of students who passed\n",
    "- Number of students who failed\n",
    "- Graduation rate of the class (%)\n",
    "- Number of features\n",
    "\n",
    "_Use the code block below to compute these values. Instructions/steps are marked using **TODO**s._"
   ]
  },
  {
   "cell_type": "code",
   "execution_count": 4,
   "metadata": {
    "collapsed": false
   },
   "outputs": [
    {
     "name": "stdout",
     "output_type": "stream",
     "text": [
      "Total number of students: 395\n",
      "Number of students who passed: 265\n",
      "Number of students who failed: 130\n",
      "Number of features: 30\n",
      "Graduation rate of the class: 67.09%\n"
     ]
    }
   ],
   "source": [
    "# TODO: Compute desired values - replace each '?' with an appropriate expression/function call\n",
    "n_students = student_data.shape[0]\n",
    "n_features = student_data.shape[1] - 1\n",
    "n_passed = len(student_data[student_data.passed == 'yes'])\n",
    "n_failed = len(student_data[student_data.passed == 'no'])\n",
    "grad_rate = float ( n_passed )/ n_students*100\n",
    "\n",
    "print \"Total number of students: {}\".format(n_students)\n",
    "print \"Number of students who passed: {}\".format(n_passed)\n",
    "print \"Number of students who failed: {}\".format(n_failed)\n",
    "print \"Number of features: {}\".format(n_features)\n",
    "print \"Graduation rate of the class: {:.2f}%\".format(grad_rate)"
   ]
  },
  {
   "cell_type": "markdown",
   "metadata": {},
   "source": [
    "## 3. Preparing the Data\n",
    "In this section, we will prepare the data for modeling, training and testing.\n",
    "\n",
    "### Identify feature and target columns\n",
    "It is often the case that the data you obtain contains non-numeric features. This can be a problem, as most machine learning algorithms expect numeric data to perform computations with.\n",
    "\n",
    "Let's first separate our data into feature and target columns, and see if any features are non-numeric.<br/>\n",
    "**Note**: For this dataset, the last column (`'passed'`) is the target or label we are trying to predict."
   ]
  },
  {
   "cell_type": "code",
   "execution_count": 4,
   "metadata": {
    "collapsed": false
   },
   "outputs": [
    {
     "name": "stdout",
     "output_type": "stream",
     "text": [
      "Feature column(s):-\n",
      "['school', 'sex', 'age', 'address', 'famsize', 'Pstatus', 'Medu', 'Fedu', 'Mjob', 'Fjob', 'reason', 'guardian', 'traveltime', 'studytime', 'failures', 'schoolsup', 'famsup', 'paid', 'activities', 'nursery', 'higher', 'internet', 'romantic', 'famrel', 'freetime', 'goout', 'Dalc', 'Walc', 'health', 'absences']\n",
      "Target column: passed\n",
      "\n",
      "Feature values:-\n",
      "  school sex  age address famsize Pstatus  Medu  Fedu     Mjob      Fjob  \\\n",
      "0     GP   F   18       U     GT3       A     4     4  at_home   teacher   \n",
      "1     GP   F   17       U     GT3       T     1     1  at_home     other   \n",
      "2     GP   F   15       U     LE3       T     1     1  at_home     other   \n",
      "3     GP   F   15       U     GT3       T     4     2   health  services   \n",
      "4     GP   F   16       U     GT3       T     3     3    other     other   \n",
      "\n",
      "    ...    higher internet  romantic  famrel  freetime goout Dalc Walc health  \\\n",
      "0   ...       yes       no        no       4         3     4    1    1      3   \n",
      "1   ...       yes      yes        no       5         3     3    1    1      3   \n",
      "2   ...       yes      yes        no       4         3     2    2    3      3   \n",
      "3   ...       yes      yes       yes       3         2     2    1    1      5   \n",
      "4   ...       yes       no        no       4         3     2    1    2      5   \n",
      "\n",
      "  absences  \n",
      "0        6  \n",
      "1        4  \n",
      "2       10  \n",
      "3        2  \n",
      "4        4  \n",
      "\n",
      "[5 rows x 30 columns]\n",
      "0     no\n",
      "1     no\n",
      "2    yes\n",
      "3    yes\n",
      "4    yes\n",
      "Name: passed, dtype: object\n"
     ]
    }
   ],
   "source": [
    "# Extract feature (X) and target (y) columns\n",
    "feature_cols = list(student_data.columns[:-1])  # all columns but last are features\n",
    "target_col = student_data.columns[-1]  # last column is the target/label\n",
    "print \"Feature column(s):-\\n{}\".format(feature_cols)\n",
    "print \"Target column: {}\".format(target_col)\n",
    "\n",
    "X_all = student_data[feature_cols]  # feature values for all students\n",
    "y_all = student_data[target_col]  # corresponding targets/labels\n",
    "print \"\\nFeature values:-\"\n",
    "print X_all.head()  # print the first 5 rows\n",
    "print y_all.head()  # print the first 5 rows"
   ]
  },
  {
   "cell_type": "markdown",
   "metadata": {},
   "source": [
    "### Preprocess feature columns\n",
    "\n",
    "As you can see, there are several non-numeric columns that need to be converted! Many of them are simply `yes`/`no`, e.g. `internet`. These can be reasonably converted into `1`/`0` (binary) values.\n",
    "\n",
    "Other columns, like `Mjob` and `Fjob`, have more than two values, and are known as _categorical variables_. The recommended way to handle such a column is to create as many columns as possible values (e.g. `Fjob_teacher`, `Fjob_other`, `Fjob_services`, etc.), and assign a `1` to one of them and `0` to all others.\n",
    "\n",
    "These generated columns are sometimes called _dummy variables_, and we will use the [`pandas.get_dummies()`](http://pandas.pydata.org/pandas-docs/stable/generated/pandas.get_dummies.html?highlight=get_dummies#pandas.get_dummies) function to perform this transformation."
   ]
  },
  {
   "cell_type": "code",
   "execution_count": 5,
   "metadata": {
    "collapsed": false
   },
   "outputs": [
    {
     "name": "stdout",
     "output_type": "stream",
     "text": [
      "Processed feature columns (48):-\n",
      "['school_GP', 'school_MS', 'sex_F', 'sex_M', 'age', 'address_R', 'address_U', 'famsize_GT3', 'famsize_LE3', 'Pstatus_A', 'Pstatus_T', 'Medu', 'Fedu', 'Mjob_at_home', 'Mjob_health', 'Mjob_other', 'Mjob_services', 'Mjob_teacher', 'Fjob_at_home', 'Fjob_health', 'Fjob_other', 'Fjob_services', 'Fjob_teacher', 'reason_course', 'reason_home', 'reason_other', 'reason_reputation', 'guardian_father', 'guardian_mother', 'guardian_other', 'traveltime', 'studytime', 'failures', 'schoolsup', 'famsup', 'paid', 'activities', 'nursery', 'higher', 'internet', 'romantic', 'famrel', 'freetime', 'goout', 'Dalc', 'Walc', 'health', 'absences']\n"
     ]
    }
   ],
   "source": [
    "# Preprocess feature columns\n",
    "def preprocess_features(X):\n",
    "    outX = pd.DataFrame(index=X.index)  # output dataframe, initially empty\n",
    "\n",
    "    # Check each column\n",
    "    for col, col_data in X.iteritems():\n",
    "        # If data type is non-numeric, try to replace all yes/no values with 1/0\n",
    "        if col_data.dtype == object:\n",
    "            col_data = col_data.replace(['yes', 'no'], [1, 0])\n",
    "        # Note: This should change the data type for yes/no columns to int\n",
    "\n",
    "        # If still non-numeric, convert to one or more dummy variables\n",
    "        if col_data.dtype == object:\n",
    "            col_data = pd.get_dummies(col_data, prefix=col)  # e.g. 'school' => 'school_GP', 'school_MS'\n",
    "\n",
    "        outX = outX.join(col_data)  # collect column(s) in output dataframe\n",
    "\n",
    "    return outX\n",
    "\n",
    "X_all = preprocess_features(X_all)\n",
    "print \"Processed feature columns ({}):-\\n{}\".format(len(X_all.columns), list(X_all.columns))"
   ]
  },
  {
   "cell_type": "markdown",
   "metadata": {},
   "source": [
    "### Split data into training and test sets\n",
    "\n",
    "So far, we have converted all _categorical_ features into numeric values. In this next step, we split the data (both features and corresponding labels) into training and test sets."
   ]
  },
  {
   "cell_type": "code",
   "execution_count": 6,
   "metadata": {
    "collapsed": false,
    "scrolled": true
   },
   "outputs": [
    {
     "name": "stdout",
     "output_type": "stream",
     "text": [
      "random_state: 132\n",
      "Training set: 300 samples\n",
      "Test set: 95 samples\n"
     ]
    }
   ],
   "source": [
    "# First, decide how many training vs test samples you want\n",
    "num_all = student_data.shape[0]  # same as len(student_data)\n",
    "num_train = 300  # about 75% of the data\n",
    "num_test = num_all - num_train\n",
    "\n",
    "# TODO: Then, select features (X) and corresponding labels (y) for the training and test sets\n",
    "# Note: Shuffle the data or randomly select samples to avoid any bias due to ordering in the dataset\n",
    "random_state = np.random.randint(0, num_train)\n",
    "print 'random_state: {}'.format(random_state)\n",
    "\n",
    "# stratification is enabled during training-test data splitting\n",
    "# in order to preserve the original class proportions in each dataset\n",
    "from sklearn import cross_validation\n",
    "X_train, X_test, y_train, y_test = cross_validation.train_test_split(X_all, y_all,\n",
    "                                                                     test_size=num_test,\n",
    "                                                                     train_size=num_train,\n",
    "                                                                     random_state=random_state,\n",
    "                                                                     stratify=y_all)\n",
    "print \"Training set: {} samples\".format(X_train.shape[0])\n",
    "print \"Test set: {} samples\".format(X_test.shape[0])\n",
    "# Note: If you need a validation set, extract it from within training data"
   ]
  },
  {
   "cell_type": "markdown",
   "metadata": {},
   "source": [
    "**Note:** The number of 'yes' to number of 'no' classes ratio is 2:1, therefore unbalanced dataset, as shown below:"
   ]
  },
  {
   "cell_type": "code",
   "execution_count": 7,
   "metadata": {
    "collapsed": false
   },
   "outputs": [
    {
     "name": "stdout",
     "output_type": "stream",
     "text": [
      "y_all:\n",
      "yes    265\n",
      "no     130\n",
      "Name: passed, dtype: int64\n",
      "\n",
      "\n",
      "y_train:\n",
      "yes    201\n",
      "no      99\n",
      "Name: passed, dtype: int64\n",
      "\n",
      "\n",
      "y_test:\n",
      "yes    64\n",
      "no     31\n",
      "Name: passed, dtype: int64\n"
     ]
    }
   ],
   "source": [
    "print \"y_all:\\n{}\".format(y_all.value_counts())\n",
    "print \"\\n\"\n",
    "print \"y_train:\\n{}\".format(y_train.value_counts())\n",
    "print \"\\n\"\n",
    "print \"y_test:\\n{}\".format(y_test.value_counts())"
   ]
  },
  {
   "cell_type": "markdown",
   "metadata": {},
   "source": [
    "## 4. Training and Evaluating Models\n",
    "Choose 3 supervised learning models that are available in scikit-learn, and appropriate for this problem. For each model:\n",
    "\n",
    "- What are the general applications of this model? What are its strengths and weaknesses?\n",
    "- Given what you know about the data so far, why did you choose this model to apply?\n",
    "- Fit this model to the training data, try to predict labels (for both training and test sets), and measure the F<sub>1</sub> score. Repeat this process with different training set sizes (100, 200, 300), keeping test set constant.\n",
    "\n",
    "Produce a table showing training time, prediction time, F<sub>1</sub> score on training set and F<sub>1</sub> score on test set, for each training set size.\n",
    "\n",
    "Note: You need to produce 3 such tables - one for each model."
   ]
  },
  {
   "cell_type": "code",
   "execution_count": 8,
   "metadata": {
    "collapsed": false
   },
   "outputs": [],
   "source": [
    "# Train a model\n",
    "import time\n",
    "\n",
    "def train_classifier(clf, X_train, y_train):\n",
    "    #print \"Training {}...\".format(clf.__class__.__name__)\n",
    "    start = time.time()\n",
    "    clf.fit(X_train, y_train)\n",
    "    end = time.time()\n",
    "    #print \"Done!\"\n",
    "    print \"Training time (secs):      {:.3f}\".format(end - start)"
   ]
  },
  {
   "cell_type": "code",
   "execution_count": 9,
   "metadata": {
    "collapsed": false
   },
   "outputs": [],
   "source": [
    "# Predict on training set and compute F1 score\n",
    "from sklearn.metrics import f1_score\n",
    "from sklearn.metrics import confusion_matrix\n",
    "\n",
    "def predict_labels(clf, features, target):\n",
    "    #print \"Predicting labels using {}...\".format(clf.__class__.__name__)\n",
    "    start = time.time()\n",
    "    y_pred = clf.predict(features)\n",
    "    end = time.time()\n",
    "    #print \"Done!\"\n",
    "    print \"Prediction time (secs):    {:.3f}\".format(end - start)\n",
    "    return f1_score(target.values, y_pred, pos_label='yes'), confusion_matrix(target, y_pred)"
   ]
  },
  {
   "cell_type": "code",
   "execution_count": 10,
   "metadata": {
    "collapsed": false
   },
   "outputs": [],
   "source": [
    "# Train and predict using different training set sizes\n",
    "def train_predict(clf, X_train, y_train, X_test, y_test):\n",
    "    print \"------------------------------------------\"\n",
    "    print \"Training set size:         {}\".format(len(X_train))\n",
    "    train_classifier(clf, X_train, y_train)\n",
    "    (f1_score_train, confusion_matrix_train) = predict_labels(clf, X_train, y_train)    \n",
    "    print \"F1 score for training set: {}\".format(f1_score_train)\n",
    "    print \"Confusion matrix for training set:\"\n",
    "    for s in str(confusion_matrix_train).split('\\n'):\n",
    "        print \"    {}\".format(s)\n",
    "    f1_score_test, confusion_matrix_test = predict_labels(clf, X_test, y_test)    \n",
    "    print \"F1 score for test set:     {}\".format(f1_score_test)\n",
    "    print \"Confusion matrix for test set:\"\n",
    "    for s in str(confusion_matrix_test).split('\\n'):\n",
    "        print \"    {}\".format(s)"
   ]
  },
  {
   "cell_type": "code",
   "execution_count": 11,
   "metadata": {
    "collapsed": false
   },
   "outputs": [],
   "source": [
    "# get training set sizes 100 and 200\n",
    "X_train_100, y_train_100 = X_train[0:100], y_train[0:100]\n",
    "X_train_200, y_train_200 = X_train[0:200], y_train[0:200]"
   ]
  },
  {
   "cell_type": "markdown",
   "metadata": {},
   "source": [
    "### 4.1 Model 1: K-NN Classifier"
   ]
  },
  {
   "cell_type": "code",
   "execution_count": 12,
   "metadata": {
    "collapsed": false
   },
   "outputs": [
    {
     "name": "stdout",
     "output_type": "stream",
     "text": [
      "KNeighborsClassifier(algorithm='auto', leaf_size=30, metric='minkowski',\n",
      "           metric_params=None, n_jobs=1, n_neighbors=5, p=2,\n",
      "           weights='distance')\n",
      "------------------------------------------\n",
      "Training set size:         100\n",
      "Training time (secs):      0.002\n",
      "Prediction time (secs):    0.002\n",
      "F1 score for training set: 1.0\n",
      "Confusion matrix for training set:\n",
      "    [[32  0]\n",
      "     [ 0 68]]\n",
      "Prediction time (secs):    0.002\n",
      "F1 score for test set:     0.819444444444\n",
      "Confusion matrix for test set:\n",
      "    [[10 21]\n",
      "     [ 5 59]]\n",
      "------------------------------------------\n",
      "Training set size:         200\n",
      "Training time (secs):      0.001\n",
      "Prediction time (secs):    0.005\n",
      "F1 score for training set: 1.0\n",
      "Confusion matrix for training set:\n",
      "    [[ 71   0]\n",
      "     [  0 129]]\n",
      "Prediction time (secs):    0.003\n",
      "F1 score for test set:     0.828571428571\n",
      "Confusion matrix for test set:\n",
      "    [[13 18]\n",
      "     [ 6 58]]\n",
      "------------------------------------------\n",
      "Training set size:         300\n",
      "Training time (secs):      0.001\n",
      "Prediction time (secs):    0.009\n",
      "F1 score for training set: 1.0\n",
      "Confusion matrix for training set:\n",
      "    [[ 99   0]\n",
      "     [  0 201]]\n",
      "Prediction time (secs):    0.005\n",
      "F1 score for test set:     0.820143884892\n",
      "Confusion matrix for test set:\n",
      "    [[13 18]\n",
      "     [ 7 57]]\n"
     ]
    }
   ],
   "source": [
    "from sklearn import neighbors\n",
    "clf = neighbors.KNeighborsClassifier(weights='distance')  # handle unbalanced dataset\n",
    "print clf\n",
    "train_predict(clf, X_train_100, y_train_100, X_test, y_test)\n",
    "train_predict(clf, X_train_200, y_train_200, X_test, y_test)\n",
    "train_predict(clf, X_train, y_train, X_test, y_test)"
   ]
  },
  {
   "cell_type": "markdown",
   "metadata": {},
   "source": [
    "### 4.2 Model 2: Logistic Regression"
   ]
  },
  {
   "cell_type": "code",
   "execution_count": 13,
   "metadata": {
    "collapsed": false,
    "scrolled": false
   },
   "outputs": [
    {
     "name": "stdout",
     "output_type": "stream",
     "text": [
      "LogisticRegression(C=1.0, class_weight='balanced', dual=False,\n",
      "          fit_intercept=True, intercept_scaling=1, max_iter=100,\n",
      "          multi_class='ovr', n_jobs=1, penalty='l2', random_state=132,\n",
      "          solver='liblinear', tol=0.0001, verbose=0, warm_start=False)\n",
      "------------------------------------------\n",
      "Training set size:         100\n",
      "Training time (secs):      0.004\n",
      "Prediction time (secs):    0.001\n",
      "F1 score for training set: 0.850393700787\n",
      "Confusion matrix for training set:\n",
      "    [[27  5]\n",
      "     [14 54]]\n",
      "Prediction time (secs):    0.000\n",
      "F1 score for test set:     0.738461538462\n",
      "Confusion matrix for test set:\n",
      "    [[13 18]\n",
      "     [16 48]]\n",
      "------------------------------------------\n",
      "Training set size:         200\n",
      "Training time (secs):      0.003\n",
      "Prediction time (secs):    0.000\n",
      "F1 score for training set: 0.785123966942\n",
      "Confusion matrix for training set:\n",
      "    [[53 18]\n",
      "     [34 95]]\n",
      "Prediction time (secs):    0.000\n",
      "F1 score for test set:     0.77519379845\n",
      "Confusion matrix for test set:\n",
      "    [[16 15]\n",
      "     [14 50]]\n",
      "------------------------------------------\n",
      "Training set size:         300\n",
      "Training time (secs):      0.004\n",
      "Prediction time (secs):    0.000\n",
      "F1 score for training set: 0.794736842105\n",
      "Confusion matrix for training set:\n",
      "    [[ 71  28]\n",
      "     [ 50 151]]\n",
      "Prediction time (secs):    0.000\n",
      "F1 score for test set:     0.755905511811\n",
      "Confusion matrix for test set:\n",
      "    [[16 15]\n",
      "     [16 48]]\n"
     ]
    }
   ],
   "source": [
    "from sklearn import linear_model\n",
    "clf2 = linear_model.LogisticRegression(class_weight='balanced',   # handle unbalanced dataset\n",
    "                                       random_state=random_state)\n",
    "print clf2\n",
    "train_predict(clf2, X_train_100, y_train_100, X_test, y_test)\n",
    "train_predict(clf2, X_train_200, y_train_200, X_test, y_test)\n",
    "train_predict(clf2, X_train, y_train, X_test, y_test)"
   ]
  },
  {
   "cell_type": "markdown",
   "metadata": {},
   "source": [
    "### 4.3 Model 3: Support Vector Machine"
   ]
  },
  {
   "cell_type": "code",
   "execution_count": 14,
   "metadata": {
    "collapsed": false
   },
   "outputs": [
    {
     "name": "stdout",
     "output_type": "stream",
     "text": [
      "SVC(C=1.0, cache_size=1000, class_weight='balanced', coef0=0.0,\n",
      "  decision_function_shape=None, degree=3, gamma='auto', kernel='rbf',\n",
      "  max_iter=-1, probability=False, random_state=132, shrinking=True,\n",
      "  tol=0.001, verbose=False)\n",
      "------------------------------------------\n",
      "Training set size:         100\n",
      "Training time (secs):      0.004\n",
      "Prediction time (secs):    0.001\n",
      "F1 score for training set: 0.859504132231\n",
      "Confusion matrix for training set:\n",
      "    [[31  1]\n",
      "     [16 52]]\n",
      "Prediction time (secs):    0.001\n",
      "F1 score for test set:     0.7\n",
      "Confusion matrix for test set:\n",
      "    [[17 14]\n",
      "     [22 42]]\n",
      "------------------------------------------\n",
      "Training set size:         200\n",
      "Training time (secs):      0.007\n",
      "Prediction time (secs):    0.006\n",
      "F1 score for training set: 0.857142857143\n",
      "Confusion matrix for training set:\n",
      "    [[ 56  15]\n",
      "     [ 21 108]]\n",
      "Prediction time (secs):    0.008\n",
      "F1 score for test set:     0.790697674419\n",
      "Confusion matrix for test set:\n",
      "    [[17 14]\n",
      "     [13 51]]\n",
      "------------------------------------------\n",
      "Training set size:         300\n",
      "Training time (secs):      0.042\n",
      "Prediction time (secs):    0.009\n",
      "F1 score for training set: 0.86\n",
      "Confusion matrix for training set:\n",
      "    [[ 72  27]\n",
      "     [ 29 172]]\n",
      "Prediction time (secs):    0.003\n",
      "F1 score for test set:     0.814814814815\n",
      "Confusion matrix for test set:\n",
      "    [[15 16]\n",
      "     [ 9 55]]\n"
     ]
    }
   ],
   "source": [
    "from sklearn import svm\n",
    "\n",
    "# from http://scikit-learn.org/stable/modules/svm.html#tips-on-practical-use)\n",
    "# * In SVC, if data for classification are unbalanced (e.g. many positive and few negative),\n",
    "#   set class_weight='balanced' and/or try different penalty parameters C\n",
    "# * For SVC, SVR, nuSVC and NuSVR, the size of the kernel cache has a strong impact on run\n",
    "#   times for larger problems. If you have enough RAM available, it is recommended to set\n",
    "#   cache_size to a higher value than the default of 200(MB), such as 500(MB) or 1000(MB).\n",
    "#\n",
    "clf3 = svm.SVC(class_weight='balanced', cache_size=1000,   \n",
    "               random_state=random_state)\n",
    "print clf3\n",
    "train_predict(clf3, X_train_100, y_train_100, X_test, y_test)\n",
    "train_predict(clf3, X_train_200, y_train_200, X_test, y_test)\n",
    "train_predict(clf3, X_train, y_train, X_test, y_test)"
   ]
  },
  {
   "cell_type": "markdown",
   "metadata": {},
   "source": [
    "## 5. Choosing the Best Model\n",
    "\n",
    "- Based on the experiments you performed earlier, in 1-2 paragraphs explain to the board of supervisors what single model you chose as the best model. Which model is generally the most appropriate based on the available data, limited resources, cost, and performance?\n",
    "- In 1-2 paragraphs explain to the board of supervisors in layman's terms how the final model chosen is supposed to work (for example if you chose a Decision Tree or Support Vector Machine, how does it make a prediction).\n",
    "- Fine-tune the model. Use Gridsearch with at least one important parameter tuned and with at least 3 settings. Use the entire training set for this.\n",
    "- What is the model's final F<sub>1</sub> score?"
   ]
  },
  {
   "cell_type": "code",
   "execution_count": 18,
   "metadata": {
    "collapsed": false
   },
   "outputs": [
    {
     "name": "stdout",
     "output_type": "stream",
     "text": [
      "------------------------------------------\n",
      "Training set size:         300\n"
     ]
    },
    {
     "name": "stderr",
     "output_type": "stream",
     "text": [
      "/Users/mt_cheng/anaconda/lib/python2.7/site-packages/sklearn/metrics/classification.py:1074: UndefinedMetricWarning: F-score is ill-defined and being set to 0.0 due to no predicted samples.\n",
      "  'precision', 'predicted', average, warn_for)\n"
     ]
    },
    {
     "name": "stdout",
     "output_type": "stream",
     "text": [
      "Training time (secs):      365.250\n",
      "Prediction time (secs):    0.010\n",
      "F1 score for training set: 0.997506234414\n",
      "Confusion matrix for training set:\n",
      "    [[ 99   0]\n",
      "     [  1 200]]\n",
      "Prediction time (secs):    0.003\n",
      "F1 score for test set:     0.837837837838\n",
      "Confusion matrix for test set:\n",
      "    [[ 9 22]\n",
      "     [ 2 62]]\n",
      "SVC(C=1.0, cache_size=1000, class_weight='balanced', coef0=0.0,\n",
      "  decision_function_shape=None, degree=0, gamma=0.1, kernel='rbf',\n",
      "  max_iter=-1, probability=False, random_state=132, shrinking=True,\n",
      "  tol=0.001, verbose=False)\n"
     ]
    }
   ],
   "source": [
    "# TODO: Fine-tune your model and report the best F1 score\n",
    "from sklearn import grid_search\n",
    "\n",
    "# use F1 scorer due to unbalanced dataset\n",
    "from sklearn.metrics import f1_score\n",
    "from sklearn.metrics import make_scorer\n",
    "f1_scorer = make_scorer(f1_score, greater_is_better=True, pos_label='yes')\n",
    "\n",
    "parameters3 = {'C'            : [x*0.1 for x in range(1,11)],\n",
    "               'kernel'       : ['rbf', 'linear', 'poly'],\n",
    "               'degree'       : [x for x in range(0, 11)],\n",
    "               'gamma'        : ['auto'] + [x*0.1 for x in range(1,11)],\n",
    "               'class_weight' : ['balanced'],\n",
    "               'cache_size'   : [1000],\n",
    "               'random_state' : [random_state]}\n",
    "clf3_gridsearch = grid_search.GridSearchCV(svm.SVC(), parameters3, scoring=f1_scorer)\n",
    "train_predict(clf3_gridsearch, X_train, y_train, X_test, y_test)\n",
    "print clf3_gridsearch.best_estimator_"
   ]
  }
 ],
 "metadata": {
  "kernelspec": {
   "display_name": "Python 2",
   "language": "python",
   "name": "python2"
  },
  "language_info": {
   "codemirror_mode": {
    "name": "ipython",
    "version": 2
   },
   "file_extension": ".py",
   "mimetype": "text/x-python",
   "name": "python",
   "nbconvert_exporter": "python",
   "pygments_lexer": "ipython2",
   "version": "2.7.11"
  }
 },
 "nbformat": 4,
 "nbformat_minor": 0
}
